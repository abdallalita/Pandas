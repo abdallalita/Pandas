{
 "cells": [
  {
   "cell_type": "code",
   "execution_count": 2,
   "id": "6cbe2007",
   "metadata": {},
   "outputs": [],
   "source": [
    "import numpy as np"
   ]
  },
  {
   "cell_type": "markdown",
   "id": "42b77249",
   "metadata": {},
   "source": [
    "### Loops"
   ]
  },
  {
   "cell_type": "code",
   "execution_count": 9,
   "id": "932922a0",
   "metadata": {},
   "outputs": [
    {
     "name": "stdout",
     "output_type": "stream",
     "text": [
      "your total score is 100\n"
     ]
    }
   ],
   "source": [
    "x=40\n",
    "y=60\n",
    "if (x>40):\n",
    "    print(\"error\")\n",
    "elif(y>60):\n",
    "    print(\"error\")\n",
    "else:\n",
    "    print(\"your total score is\", x+y)"
   ]
  },
  {
   "cell_type": "code",
   "execution_count": 29,
   "id": "6346fae3",
   "metadata": {},
   "outputs": [
    {
     "name": "stdout",
     "output_type": "stream",
     "text": [
      "your total score is 100\n"
     ]
    }
   ],
   "source": [
    "x=60\n",
    "y=40\n",
    "if(x+y==100):\n",
    "    if(x>60):\n",
    "        if(x<=60):\n",
    "            print(\"you have a B\")\n",
    "        print(\"error\")\n",
    "    elif(y>40):\n",
    "        if(y<=40):\n",
    "            print(\"you have a D\")\n",
    "        print(\"error\")\n",
    "    else:\n",
    "        print(\"your total score is\",x+y)\n",
    "else:\n",
    "    print(\"error, check on both theory and practical\")"
   ]
  },
  {
   "cell_type": "code",
   "execution_count": 3,
   "id": "b62b5ab0",
   "metadata": {},
   "outputs": [
    {
     "name": "stdout",
     "output_type": "stream",
     "text": [
      "practicals39\n",
      "theory55\n",
      "your total score is 94\n"
     ]
    }
   ],
   "source": [
    "practicals=40\n",
    "theory=60\n",
    "x=int(input(\"practicals\"))\n",
    "y=int(input(\"theory\"))\n",
    "if(x>40):\n",
    "    print(\"error\")\n",
    "elif(y>60):\n",
    "    print(\"error\")\n",
    "else:\n",
    "    print(\"your total score is\",x+y)"
   ]
  },
  {
   "cell_type": "code",
   "execution_count": 4,
   "id": "6f0c1e7d",
   "metadata": {},
   "outputs": [
    {
     "name": "stdout",
     "output_type": "stream",
     "text": [
      "you total score is 94\n"
     ]
    }
   ],
   "source": [
    "if(x+y)>100:\n",
    "    if(x<=40):\n",
    "        print(\"you have a B\")\n",
    "    elif(y<=60):\n",
    "        print(\"you have a D\")\n",
    "    else:\n",
    "        print(\"error,check on both theory and practical\")\n",
    "else:\n",
    "    print(\"your total score is\",x+y)\n"
   ]
  },
  {
   "cell_type": "markdown",
   "id": "0111c668",
   "metadata": {},
   "source": [
    "### initializing different types of arrays\n",
    "\n"
   ]
  },
  {
   "cell_type": "code",
   "execution_count": null,
   "id": "4036b3ee",
   "metadata": {},
   "outputs": [],
   "source": [
    "#all zeros matrix"
   ]
  },
  {
   "cell_type": "code",
   "execution_count": 23,
   "id": "cbba17aa",
   "metadata": {},
   "outputs": [],
   "source": [
    "import numpy as np"
   ]
  },
  {
   "cell_type": "code",
   "execution_count": 26,
   "id": "a3eba5c8",
   "metadata": {},
   "outputs": [
    {
     "data": {
      "text/plain": [
       "array([0., 0., 0., 0., 0.])"
      ]
     },
     "execution_count": 26,
     "metadata": {},
     "output_type": "execute_result"
    }
   ],
   "source": [
    "np.zeros(5)"
   ]
  },
  {
   "cell_type": "code",
   "execution_count": 29,
   "id": "e106991d",
   "metadata": {},
   "outputs": [
    {
     "data": {
      "text/plain": [
       "array([[0., 0., 0.],\n",
       "       [0., 0., 0.],\n",
       "       [0., 0., 0.]])"
      ]
     },
     "execution_count": 29,
     "metadata": {},
     "output_type": "execute_result"
    }
   ],
   "source": [
    "np.zeros((3,3))"
   ]
  },
  {
   "cell_type": "code",
   "execution_count": 38,
   "id": "05655840",
   "metadata": {},
   "outputs": [
    {
     "data": {
      "text/plain": [
       "9"
      ]
     },
     "execution_count": 38,
     "metadata": {},
     "output_type": "execute_result"
    }
   ],
   "source": [
    "p=np.zeros((3,3))\n",
    "p.ndim\n",
    "p.shape\n",
    "p.size"
   ]
  },
  {
   "cell_type": "code",
   "execution_count": 39,
   "id": "38e0164c",
   "metadata": {},
   "outputs": [
    {
     "data": {
      "text/plain": [
       "3"
      ]
     },
     "execution_count": 39,
     "metadata": {},
     "output_type": "execute_result"
    }
   ],
   "source": [
    "p=np.zeros((3,3,3))\n",
    "p.ndim"
   ]
  },
  {
   "cell_type": "markdown",
   "id": "78242aaf",
   "metadata": {},
   "source": [
    "**all ones matrix**\n",
    "\n"
   ]
  },
  {
   "cell_type": "code",
   "execution_count": 41,
   "id": "72bef9e4",
   "metadata": {},
   "outputs": [
    {
     "data": {
      "text/plain": [
       "array([[[1., 1., 1.],\n",
       "        [1., 1., 1.]],\n",
       "\n",
       "       [[1., 1., 1.],\n",
       "        [1., 1., 1.]]])"
      ]
     },
     "execution_count": 41,
     "metadata": {},
     "output_type": "execute_result"
    }
   ],
   "source": [
    "np.ones((2,2,3))"
   ]
  },
  {
   "cell_type": "code",
   "execution_count": 54,
   "id": "86d4878b",
   "metadata": {},
   "outputs": [
    {
     "data": {
      "text/plain": [
       "(2, 2, 3)"
      ]
     },
     "execution_count": 54,
     "metadata": {},
     "output_type": "execute_result"
    }
   ],
   "source": [
    "x=np.ones((2,2,3))\n",
    "x.ndim\n",
    "x.shape"
   ]
  },
  {
   "cell_type": "code",
   "execution_count": 43,
   "id": "43caa37e",
   "metadata": {},
   "outputs": [
    {
     "data": {
      "text/plain": [
       "dtype('float64')"
      ]
     },
     "execution_count": 43,
     "metadata": {},
     "output_type": "execute_result"
    }
   ],
   "source": [
    "x.dtype"
   ]
  },
  {
   "cell_type": "markdown",
   "id": "e945557b",
   "metadata": {},
   "source": [
    "**any other number**"
   ]
  },
  {
   "cell_type": "code",
   "execution_count": 47,
   "id": "9bbc86e9",
   "metadata": {},
   "outputs": [
    {
     "data": {
      "text/plain": [
       "array([[60, 60],\n",
       "       [60, 60]])"
      ]
     },
     "execution_count": 47,
     "metadata": {},
     "output_type": "execute_result"
    }
   ],
   "source": [
    "np.full((2,2),60)"
   ]
  },
  {
   "cell_type": "code",
   "execution_count": 49,
   "id": "b57cccef",
   "metadata": {},
   "outputs": [
    {
     "data": {
      "text/plain": [
       "array([[[50., 50., 50.],\n",
       "        [50., 50., 50.]],\n",
       "\n",
       "       [[50., 50., 50.],\n",
       "        [50., 50., 50.]]])"
      ]
     },
     "execution_count": 49,
     "metadata": {},
     "output_type": "execute_result"
    }
   ],
   "source": [
    "np.full_like(x,50)"
   ]
  },
  {
   "cell_type": "code",
   "execution_count": 55,
   "id": "ddddb917",
   "metadata": {},
   "outputs": [
    {
     "data": {
      "text/plain": [
       "array([[[50, 50, 50],\n",
       "        [50, 50, 50]],\n",
       "\n",
       "       [[50, 50, 50],\n",
       "        [50, 50, 50]]])"
      ]
     },
     "execution_count": 55,
     "metadata": {},
     "output_type": "execute_result"
    }
   ],
   "source": [
    "np.full(x.shape,50)"
   ]
  },
  {
   "cell_type": "markdown",
   "id": "a652d017",
   "metadata": {},
   "source": [
    "**random decimals numbers**"
   ]
  },
  {
   "cell_type": "code",
   "execution_count": 56,
   "id": "deb97f35",
   "metadata": {},
   "outputs": [
    {
     "data": {
      "text/plain": [
       "array([[0.46756878, 0.48914575, 0.51327358],\n",
       "       [0.17087811, 0.69137203, 0.71382307]])"
      ]
     },
     "execution_count": 56,
     "metadata": {},
     "output_type": "execute_result"
    }
   ],
   "source": [
    "np.random.rand(2,3) #creates a matrix of random numbers between 0 and 1"
   ]
  },
  {
   "cell_type": "code",
   "execution_count": 57,
   "id": "ce89b422",
   "metadata": {},
   "outputs": [
    {
     "data": {
      "text/plain": [
       "array([[[0.99614912, 0.24350964, 0.090577  ],\n",
       "        [0.11978261, 0.85452957, 0.90905141]],\n",
       "\n",
       "       [[0.75130004, 0.01637231, 0.02489848],\n",
       "        [0.44550263, 0.27774185, 0.24683221]]])"
      ]
     },
     "execution_count": 57,
     "metadata": {},
     "output_type": "execute_result"
    }
   ],
   "source": [
    "np.random.random_sample(x.shape)"
   ]
  },
  {
   "cell_type": "markdown",
   "id": "d9367ffe",
   "metadata": {},
   "source": [
    "**random integers values**"
   ]
  },
  {
   "cell_type": "code",
   "execution_count": 58,
   "id": "ab66a6f6",
   "metadata": {},
   "outputs": [
    {
     "data": {
      "text/plain": [
       "array([[3, 0],\n",
       "       [4, 3]])"
      ]
     },
     "execution_count": 58,
     "metadata": {},
     "output_type": "execute_result"
    }
   ],
   "source": [
    "np.random.randint(5,size=(2,2))"
   ]
  },
  {
   "cell_type": "code",
   "execution_count": 59,
   "id": "e8eba24c",
   "metadata": {},
   "outputs": [
    {
     "data": {
      "text/plain": [
       "array([[3, 2],\n",
       "       [2, 1]])"
      ]
     },
     "execution_count": 59,
     "metadata": {},
     "output_type": "execute_result"
    }
   ],
   "source": [
    "np.random.randint(1,5,size=(2,2))"
   ]
  },
  {
   "cell_type": "markdown",
   "id": "56648eed",
   "metadata": {},
   "source": [
    "**identity matrix/eye**"
   ]
  },
  {
   "cell_type": "code",
   "execution_count": 61,
   "id": "fa16a803",
   "metadata": {},
   "outputs": [
    {
     "data": {
      "text/plain": [
       "array([[1., 0., 0., 0., 0.],\n",
       "       [0., 1., 0., 0., 0.],\n",
       "       [0., 0., 1., 0., 0.],\n",
       "       [0., 0., 0., 1., 0.],\n",
       "       [0., 0., 0., 0., 1.]])"
      ]
     },
     "execution_count": 61,
     "metadata": {},
     "output_type": "execute_result"
    }
   ],
   "source": [
    "np.identity(5) #diagonal is 1's"
   ]
  },
  {
   "cell_type": "code",
   "execution_count": 62,
   "id": "1b37659d",
   "metadata": {},
   "outputs": [
    {
     "data": {
      "text/plain": [
       "array([[1., 0., 0., 0., 0.],\n",
       "       [0., 1., 0., 0., 0.],\n",
       "       [0., 0., 1., 0., 0.],\n",
       "       [0., 0., 0., 1., 0.],\n",
       "       [0., 0., 0., 0., 1.]])"
      ]
     },
     "execution_count": 62,
     "metadata": {},
     "output_type": "execute_result"
    }
   ],
   "source": [
    "np.eye(5)"
   ]
  },
  {
   "cell_type": "code",
   "execution_count": 65,
   "id": "1d5526ab",
   "metadata": {},
   "outputs": [
    {
     "name": "stdout",
     "output_type": "stream",
     "text": [
      "[1. 0. 0. 0. 0. 1. 0. 0. 0. 0. 1. 0. 0. 0. 0. 1.]\n"
     ]
    }
   ],
   "source": [
    "a=np.eye(4)\n",
    "print(a.ravel()) #coverts entire array to a single column"
   ]
  },
  {
   "cell_type": "markdown",
   "id": "072dc09f",
   "metadata": {},
   "source": [
    "**lin space**"
   ]
  },
  {
   "cell_type": "code",
   "execution_count": 68,
   "id": "94ed43f6",
   "metadata": {},
   "outputs": [
    {
     "name": "stdout",
     "output_type": "stream",
     "text": [
      "[1.         1.44444444 1.88888889 2.33333333 2.77777778 3.22222222\n",
      " 3.66666667 4.11111111 4.55555556 5.        ]\n"
     ]
    }
   ],
   "source": [
    "#generates an array of evenly spread elemets\n",
    "b=np.linspace(1,5,10)# generates evenly10 spread elements between 1 & 5\n",
    "print(b)"
   ]
  },
  {
   "cell_type": "code",
   "execution_count": 70,
   "id": "f7496ea5",
   "metadata": {},
   "outputs": [
    {
     "name": "stdout",
     "output_type": "stream",
     "text": [
      "[1 2 3]\n"
     ]
    }
   ],
   "source": [
    "a=np.array([1,2,3])\n",
    "print(a)"
   ]
  },
  {
   "cell_type": "code",
   "execution_count": 76,
   "id": "5ce0dcf3",
   "metadata": {},
   "outputs": [
    {
     "data": {
      "text/plain": [
       "array([1.        , 1.41421356, 1.73205081])"
      ]
     },
     "execution_count": 76,
     "metadata": {},
     "output_type": "execute_result"
    }
   ],
   "source": [
    "min(a)\n",
    "max(a)\n",
    "sum(a)\n",
    "np.sqrt(a)"
   ]
  },
  {
   "cell_type": "code",
   "execution_count": 77,
   "id": "df9dc275",
   "metadata": {},
   "outputs": [
    {
     "data": {
      "text/plain": [
       "6"
      ]
     },
     "execution_count": 77,
     "metadata": {},
     "output_type": "execute_result"
    }
   ],
   "source": [
    "a.sum(axis=0)"
   ]
  },
  {
   "cell_type": "code",
   "execution_count": 96,
   "id": "9c0cff52",
   "metadata": {},
   "outputs": [
    {
     "name": "stdout",
     "output_type": "stream",
     "text": [
      "6.0\n",
      "[[1. 1. 1.]\n",
      " [1. 1. 1.]]\n"
     ]
    }
   ],
   "source": [
    "a=np.ones((2,3))\n",
    "print(a.sum())#returns sum of all elements and axis=none\n",
    "print(a)\n",
    "p=a.sum(axis=0)# returns sums of rows\n",
    "p=a.sum(axis=1)#returns sums of columns"
   ]
  },
  {
   "cell_type": "code",
   "execution_count": 92,
   "id": "0a0aeeb2",
   "metadata": {},
   "outputs": [
    {
     "name": "stdout",
     "output_type": "stream",
     "text": [
      "[3. 3.]\n"
     ]
    }
   ],
   "source": [
    "p=a.sum(axis=1)\n",
    "print(p)"
   ]
  },
  {
   "cell_type": "code",
   "execution_count": 93,
   "id": "f70cf1fe",
   "metadata": {},
   "outputs": [
    {
     "name": "stdout",
     "output_type": "stream",
     "text": [
      "[2. 2. 2.]\n"
     ]
    }
   ],
   "source": [
    "p=a.sum(axis=0)\n",
    "print(p)"
   ]
  },
  {
   "cell_type": "code",
   "execution_count": 3,
   "id": "a93f5910",
   "metadata": {},
   "outputs": [
    {
     "name": "stdout",
     "output_type": "stream",
     "text": [
      "[ 0  1  2  3  4  5  6  7  8  9 10 11 12 13 14 15 16 17 18 19 20 21 22 23\n",
      " 24]\n"
     ]
    }
   ],
   "source": [
    "import numpy as np\n",
    "a=np.arange(25)\n",
    "print(a)\n"
   ]
  },
  {
   "cell_type": "code",
   "execution_count": 5,
   "id": "f0e489bd",
   "metadata": {},
   "outputs": [
    {
     "data": {
      "text/plain": [
       "array([[ 0,  1,  2,  3,  4],\n",
       "       [ 5,  6,  7,  8,  9],\n",
       "       [10, 11, 12, 13, 14],\n",
       "       [15, 16, 17, 18, 19],\n",
       "       [20, 21, 22, 23, 24]])"
      ]
     },
     "execution_count": 5,
     "metadata": {},
     "output_type": "execute_result"
    }
   ],
   "source": [
    "a.reshape(5,5)"
   ]
  },
  {
   "cell_type": "code",
   "execution_count": 6,
   "id": "fb767076",
   "metadata": {},
   "outputs": [
    {
     "name": "stdout",
     "output_type": "stream",
     "text": [
      "[[ 0  1  2  3  4]\n",
      " [ 5  6  7  8  9]\n",
      " [10 11 12 13 14]\n",
      " [15 16 17 18 19]\n",
      " [20 21 22 23 24]]\n"
     ]
    },
    {
     "data": {
      "text/plain": [
       "array([[ 0],\n",
       "       [ 5],\n",
       "       [10],\n",
       "       [15],\n",
       "       [20]])"
      ]
     },
     "execution_count": 6,
     "metadata": {},
     "output_type": "execute_result"
    }
   ],
   "source": [
    "#extract matrix with elements 0,5,10,15,20\n",
    "q=a.reshape(5,5)\n",
    "print(q)\n",
    "q[0:5,0]\n",
    "q[0:,:1]\n"
   ]
  },
  {
   "cell_type": "code",
   "execution_count": 129,
   "id": "aeb29aaa",
   "metadata": {},
   "outputs": [
    {
     "data": {
      "text/plain": [
       "array([[ 1,  3],\n",
       "       [ 6,  8],\n",
       "       [11, 13],\n",
       "       [16, 18],\n",
       "       [21, 23]])"
      ]
     },
     "execution_count": 129,
     "metadata": {},
     "output_type": "execute_result"
    }
   ],
   "source": [
    "q[0:,1:4:2]"
   ]
  },
  {
   "cell_type": "code",
   "execution_count": 143,
   "id": "d64f010f",
   "metadata": {},
   "outputs": [
    {
     "data": {
      "text/plain": [
       "array([[ 5,  7],\n",
       "       [15, 17]])"
      ]
     },
     "execution_count": 143,
     "metadata": {},
     "output_type": "execute_result"
    }
   ],
   "source": [
    "q[1:4:2,0:3:2]"
   ]
  },
  {
   "cell_type": "code",
   "execution_count": 8,
   "id": "10353c44",
   "metadata": {},
   "outputs": [
    {
     "data": {
      "text/plain": [
       "array([[ 0,  1,  2,  3,  4],\n",
       "       [ 5,  6,  7,  8,  9],\n",
       "       [10, 11, 12, 13, 14],\n",
       "       [15, 16, 17, 18, 19],\n",
       "       [20, 21, 22, 23, 24]])"
      ]
     },
     "execution_count": 8,
     "metadata": {},
     "output_type": "execute_result"
    }
   ],
   "source": [
    "q"
   ]
  },
  {
   "cell_type": "code",
   "execution_count": 144,
   "id": "b66e08c6",
   "metadata": {},
   "outputs": [
    {
     "data": {
      "text/plain": [
       "array([[18, 19],\n",
       "       [23, 24]])"
      ]
     },
     "execution_count": 144,
     "metadata": {},
     "output_type": "execute_result"
    }
   ],
   "source": [
    "q[3:5:1,3:5:1]"
   ]
  },
  {
   "cell_type": "code",
   "execution_count": 9,
   "id": "33d0a2ed",
   "metadata": {},
   "outputs": [
    {
     "data": {
      "text/plain": [
       "array([[20, 24]])"
      ]
     },
     "execution_count": 9,
     "metadata": {},
     "output_type": "execute_result"
    }
   ],
   "source": [
    "q[4:,0:5:4]"
   ]
  },
  {
   "cell_type": "code",
   "execution_count": 13,
   "id": "1825fddb",
   "metadata": {},
   "outputs": [
    {
     "data": {
      "text/plain": [
       "array([[ 0,  1,  2,  3,  4],\n",
       "       [ 5,  6,  7,  8,  9],\n",
       "       [10, 11, 12, 13, 14],\n",
       "       [15, 16, 17, 18, 19],\n",
       "       [20, 21, 22, 23, 24]])"
      ]
     },
     "execution_count": 13,
     "metadata": {},
     "output_type": "execute_result"
    }
   ],
   "source": [
    "q[:5,0:]"
   ]
  },
  {
   "cell_type": "code",
   "execution_count": null,
   "id": "fb877601",
   "metadata": {},
   "outputs": [],
   "source": [
    "q[]"
   ]
  }
 ],
 "metadata": {
  "kernelspec": {
   "display_name": "Python 3 (ipykernel)",
   "language": "python",
   "name": "python3"
  },
  "language_info": {
   "codemirror_mode": {
    "name": "ipython",
    "version": 3
   },
   "file_extension": ".py",
   "mimetype": "text/x-python",
   "name": "python",
   "nbconvert_exporter": "python",
   "pygments_lexer": "ipython3",
   "version": "3.10.2"
  }
 },
 "nbformat": 4,
 "nbformat_minor": 5
}
